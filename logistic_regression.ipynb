{
 "cells": [
  {
   "cell_type": "code",
   "execution_count": 332,
   "metadata": {},
   "outputs": [],
   "source": [
    "import os\n",
    "import pandas as pd\n",
    "import numpy as np\n",
    "from scripts.utils import read_gold_data"
   ]
  },
  {
   "cell_type": "code",
   "execution_count": 333,
   "metadata": {},
   "outputs": [],
   "source": [
    "data = read_gold_data(\"data-release\")\n",
    "corpus = data[\"corpus\"]\n",
    "perspective_queries_dev = data[\"perspective\"][\"dev\"]"
   ]
  },
  {
   "cell_type": "code",
   "execution_count": null,
   "metadata": {},
   "outputs": [],
   "source": [
    "similarity_scores_path = \"\" # set path here\n",
    "topic_scores_path = \"\" # set path here\n",
    "demographic_scores_path = \"\" # set path here\n",
    "rerank_scores_path = \"\" # set path here\n",
    "gold_scores_path = \"\" # set path here"
   ]
  },
  {
   "cell_type": "code",
   "execution_count": 334,
   "metadata": {},
   "outputs": [],
   "source": [
    "similarity_scores_df = pd.read_json(similarity_scores_path, lines=True)\n",
    "topic_scores_df = pd.read_json(topic_scores_path, lines=True)\n",
    "demographic_scores_df = pd.read_json(demographic_scores_path, lines=True)\n",
    "rerank_scores_df = pd.read_json(rerank_scores_path, lines=True)\n",
    "gold_scores_df = pd.read_json(gold_scores_path, lines=True)"
   ]
  },
  {
   "cell_type": "code",
   "execution_count": 335,
   "metadata": {},
   "outputs": [],
   "source": [
    "common_query_ids = set(similarity_scores_df[\"query_id\"].values).intersection(set(topic_scores_df[\"query_id\"].values), set(demographic_scores_df[\"query_id\"].values), set(rerank_scores_df[\"query_id\"].values), set(gold_scores_df[\"query_id\"].values))"
   ]
  },
  {
   "cell_type": "code",
   "execution_count": 337,
   "metadata": {},
   "outputs": [],
   "source": [
    "similarity_scores_df = similarity_scores_df[similarity_scores_df['query_id'].isin(common_query_ids)]\n",
    "topic_scores_df = topic_scores_df[topic_scores_df['query_id'].isin(common_query_ids)]\n",
    "demographic_scores_df = demographic_scores_df[demographic_scores_df['query_id'].isin(common_query_ids)]\n",
    "rerank_scores_df = rerank_scores_df[rerank_scores_df['query_id'].isin(common_query_ids)]\n",
    "gold_scores_df = gold_scores_df[gold_scores_df['query_id'].isin(common_query_ids)]"
   ]
  },
  {
   "cell_type": "code",
   "execution_count": 338,
   "metadata": {},
   "outputs": [],
   "source": [
    "similarity_scores = np.array(list(similarity_scores_df[\"similarity_scores\"].values))\n",
    "topic_scores = np.array(list(topic_scores_df[\"topic_scores\"].values))\n",
    "demographic_scores = np.array(list(demographic_scores_df[\"demographic_scores\"].values))\n",
    "rerank_scores = np.array(list(rerank_scores_df[\"rerank_scores\"].values))\n",
    "gold_scores = np.array(list(gold_scores_df[\"gold_scores\"].values))"
   ]
  },
  {
   "cell_type": "code",
   "execution_count": 339,
   "metadata": {},
   "outputs": [],
   "source": [
    "combined_scores = similarity_scores + topic_scores + demographic_scores + rerank_scores"
   ]
  },
  {
   "cell_type": "code",
   "execution_count": 340,
   "metadata": {},
   "outputs": [],
   "source": [
    "top_indices = np.argpartition(-combined_scores, 100, axis=1)[:, :100] #  change 100 to amount of arguments regarded per query"
   ]
  },
  {
   "cell_type": "code",
   "execution_count": 341,
   "metadata": {},
   "outputs": [],
   "source": [
    "similarity_scores_100 = np.take_along_axis(similarity_scores, top_indices, axis=1)\n",
    "topic_scores_100 = np.take_along_axis(topic_scores, top_indices, axis=1)\n",
    "demographic_scores_100 = np.take_along_axis(demographic_scores, top_indices, axis=1)\n",
    "rerank_scores_100 = np.take_along_axis(rerank_scores, top_indices, axis=1)\n",
    "gold_scores_100 = np.take_along_axis(gold_scores, top_indices, axis=1)\n"
   ]
  },
  {
   "cell_type": "code",
   "execution_count": 343,
   "metadata": {},
   "outputs": [],
   "source": [
    "similarities_matrix = np.empty((0, 4)) # change for to number of input scores without gold score\n",
    "gold_scores_matrix = np.array([])"
   ]
  },
  {
   "cell_type": "code",
   "execution_count": null,
   "metadata": {},
   "outputs": [],
   "source": [
    "for row in range(len(similarity_scores_100)):\n",
    "    if row % 50 == 0:\n",
    "        print(row)\n",
    "    for column in range(100): #  change 100 to amount of arguments regarded per query\n",
    "        similarity_score = similarity_scores_100[row, column]\n",
    "        topic_score = topic_scores_100[row, column]\n",
    "        demographic_score = demographic_scores_100[row, column]\n",
    "        rerank_score = rerank_scores_100[row, column]\n",
    "        gold_score = gold_scores_100[row, column]\n",
    "        row_scores = np.array([similarity_score, topic_score, demographic_score, rerank_score])\n",
    "        similarities_matrix = np.vstack([similarities_matrix, row_scores])\n",
    "        gold_scores_matrix = np.append(gold_scores_matrix, gold_score)"
   ]
  },
  {
   "cell_type": "code",
   "execution_count": null,
   "metadata": {},
   "outputs": [],
   "source": [
    "scores_path = \"\" # expects something like path/new_file_name.npy\n",
    "truth_path = \"\" # expects something like path/new_file_name_2.npy"
   ]
  },
  {
   "cell_type": "code",
   "execution_count": 345,
   "metadata": {},
   "outputs": [],
   "source": [
    "np.save(scores_path, similarities_matrix)\n",
    "np.save(truth_path, gold_scores_matrix)"
   ]
  },
  {
   "cell_type": "code",
   "execution_count": 346,
   "metadata": {},
   "outputs": [],
   "source": [
    "X = np.load(scores_path)\n",
    "y = np.load(truth_path)"
   ]
  },
  {
   "cell_type": "code",
   "execution_count": 347,
   "metadata": {},
   "outputs": [],
   "source": [
    "from sklearn.linear_model import LogisticRegression"
   ]
  },
  {
   "cell_type": "code",
   "execution_count": 348,
   "metadata": {},
   "outputs": [],
   "source": [
    "clf = LogisticRegression(random_state=0).fit(X, y)"
   ]
  },
  {
   "cell_type": "code",
   "execution_count": null,
   "metadata": {},
   "outputs": [],
   "source": [
    "print(clf.coef_)"
   ]
  },
  {
   "cell_type": "code",
   "execution_count": null,
   "metadata": {},
   "outputs": [],
   "source": [
    "similarity_score, topic_score, demographic_scores, rerank_score"
   ]
  }
 ],
 "metadata": {
  "kernelspec": {
   "display_name": "Python 3",
   "language": "python",
   "name": "python3"
  },
  "language_info": {
   "codemirror_mode": {
    "name": "ipython",
    "version": 3
   },
   "file_extension": ".py",
   "mimetype": "text/x-python",
   "name": "python",
   "nbconvert_exporter": "python",
   "pygments_lexer": "ipython3",
   "version": "3.12.0"
  }
 },
 "nbformat": 4,
 "nbformat_minor": 2
}
