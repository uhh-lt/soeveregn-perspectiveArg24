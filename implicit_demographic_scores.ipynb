{
 "cells": [
  {
   "cell_type": "code",
   "execution_count": null,
   "metadata": {},
   "outputs": [],
   "source": [
    "import pandas as pd\n",
    "from scripts.utils import read_gold_data\n",
    "import scripts.prompts as pr\n",
    "import scripts.rerank_scripts as rr\n",
    "from llmusage.hugchat_api_usage import HuggingChat"
   ]
  },
  {
   "cell_type": "code",
   "execution_count": 2,
   "metadata": {},
   "outputs": [],
   "source": [
    "data_path_name = \"data-release\" # set data path name\n",
    "\n",
    "data = read_gold_data(data_path_name)\n",
    "corpus = data[\"corpus\"]\n",
    "perspective_queries_train = data[\"perspective\"][\"train\"]\n",
    "perspective_queries_dev = data[\"perspective\"][\"dev\"]\n",
    "# perspective_queries_test = data[\"perspective\"][\"test\"]"
   ]
  },
  {
   "cell_type": "code",
   "execution_count": 3,
   "metadata": {},
   "outputs": [],
   "source": [
    "prediction_path = \"\" # set path to prediction\n",
    "predictions = pd.read_json(prediction_path, lines=True)"
   ]
  },
  {
   "cell_type": "code",
   "execution_count": 4,
   "metadata": {},
   "outputs": [],
   "source": [
    "HUGGINGCHAT_USERNAME = \"\" # insert valid huggingchat username (I believe the email-adress works as well)\n",
    "HUGGINGCHAT_PASSWORD = \"\" # insert the corresponding huggingchat password\n",
    "answer_with = 'dict'"
   ]
  },
  {
   "cell_type": "code",
   "execution_count": 5,
   "metadata": {},
   "outputs": [
    {
     "name": "stdout",
     "output_type": "stream",
     "text": [
      "created login\n"
     ]
    }
   ],
   "source": [
    "if answer_with == 'list':\n",
    "    mixtral_huggingchat = HuggingChat(HUGGINGCHAT_USERNAME, HUGGINGCHAT_PASSWORD, system_prompt=\"Answer with a python list containing all ranked argument ids\")\n",
    "if answer_with == 'dict':\n",
    "    mixtral_huggingchat = HuggingChat(HUGGINGCHAT_USERNAME, HUGGINGCHAT_PASSWORD, system_prompt=\"Answer with a python dictionary containing a score between 0 and 1 for each argument id\")"
   ]
  },
  {
   "cell_type": "code",
   "execution_count": 6,
   "metadata": {},
   "outputs": [],
   "source": [
    "queries = perspective_queries_dev # set correct set of queries"
   ]
  },
  {
   "cell_type": "code",
   "execution_count": null,
   "metadata": {},
   "outputs": [],
   "source": [
    "json_path = \"\" # this path should lead to an empty json file, where the llm demographic scores per query can be saved right after generating them, in case something crashes and local variables are lost\n",
    "implicit_demographic_scores = rr.implicit_demographic_scores(predictions, corpus, queries, mixtral_huggingchat, 50, pr.implicit_demographics_prompt, json_path=json_path)"
   ]
  },
  {
   "cell_type": "code",
   "execution_count": null,
   "metadata": {},
   "outputs": [],
   "source": [
    "scores = []\n",
    "for i in range(len(implicit_demographic_scores)):\n",
    "    row = list(implicit_demographic_scores[i])\n",
    "    scores.append({\n",
    "        'query_id': queries[\"query_id\"].values[i],\n",
    "        'demographic_scores': row\n",
    "    })"
   ]
  },
  {
   "cell_type": "code",
   "execution_count": null,
   "metadata": {},
   "outputs": [],
   "source": [
    "implicit_demographic_scores_df = pd.DataFrame(scores)"
   ]
  },
  {
   "cell_type": "code",
   "execution_count": null,
   "metadata": {},
   "outputs": [],
   "source": [
    "alt_json_path = \"\" # if there was no json path given earlier to save each line of scores individually this is to save the entire table of scores as a json file\n",
    "implicit_demographic_scores_df.to_json(alt_json_path, orient=\"records\", lines=True)"
   ]
  },
  {
   "cell_type": "code",
   "execution_count": null,
   "metadata": {},
   "outputs": [],
   "source": []
  }
 ],
 "metadata": {
  "kernelspec": {
   "display_name": "Python 3",
   "language": "python",
   "name": "python3"
  },
  "language_info": {
   "codemirror_mode": {
    "name": "ipython",
    "version": 3
   },
   "file_extension": ".py",
   "mimetype": "text/x-python",
   "name": "python",
   "nbconvert_exporter": "python",
   "pygments_lexer": "ipython3",
   "version": "3.12.0"
  }
 },
 "nbformat": 4,
 "nbformat_minor": 2
}
