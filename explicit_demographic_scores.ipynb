{
 "cells": [
  {
   "cell_type": "code",
   "execution_count": null,
   "metadata": {},
   "outputs": [],
   "source": [
    "import pandas as pd\n",
    "import numpy as np\n",
    "import os\n",
    "from sentence_transformers import SentenceTransformer\n",
    "from sklearn.metrics.pairwise import cosine_similarity\n",
    "from scripts.utils import read_gold_data"
   ]
  },
  {
   "cell_type": "code",
   "execution_count": 2,
   "metadata": {},
   "outputs": [],
   "source": [
    "data_path_name = \"data-release\" # set data path name!\n",
    "\n",
    "data = read_gold_data(data_path_name)\n",
    "corpus = data[\"corpus\"]\n",
    "perspective_queries_train = data[\"perspective\"][\"train\"]\n",
    "perspective_queries_dev = data[\"perspective\"][\"dev\"]\n",
    "# perspective_queries_test = data[\"perspective\"][\"test\"]"
   ]
  },
  {
   "cell_type": "code",
   "execution_count": 3,
   "metadata": {},
   "outputs": [],
   "source": [
    "all_demographic_properties = set()\n",
    "for index, corpus_data in corpus.iterrows():\n",
    "    for prop_name, prop_value in corpus_data[\"demographic_profile\"].items():\n",
    "        if isinstance(prop_value, list):\n",
    "            all_demographic_properties.update(prop_value)\n",
    "        else:\n",
    "            all_demographic_properties.add(prop_value)"
   ]
  },
  {
   "cell_type": "code",
   "execution_count": 4,
   "metadata": {},
   "outputs": [],
   "source": [
    "for index, query_data in perspective_queries_train.iterrows():\n",
    "    for prop_name, prop_value in query_data[\"demographic_property\"].items():\n",
    "        all_demographic_properties.add(prop_value)\n",
    "\n",
    "for index, query_data in perspective_queries_dev.iterrows():\n",
    "    for prop_name, prop_value in query_data[\"demographic_property\"].items():\n",
    "        all_demographic_properties.add(prop_value)"
   ]
  },
  {
   "cell_type": "code",
   "execution_count": 4,
   "metadata": {},
   "outputs": [],
   "source": [
    "# uncomment for test data\n",
    "\n",
    "# for index, query_data in perspective_queries_test.iterrows():\n",
    "#     for prop_name, prop_value in query_data[\"demographic_property\"].items():\n",
    "#         all_demographic_properties.add(prop_value)"
   ]
  },
  {
   "cell_type": "code",
   "execution_count": 5,
   "metadata": {},
   "outputs": [],
   "source": [
    "all_demographic_properties = list(all_demographic_properties)"
   ]
  },
  {
   "cell_type": "code",
   "execution_count": 6,
   "metadata": {},
   "outputs": [],
   "source": [
    "corpus_demographics_embeddings = []\n",
    "for index, corpus_data in corpus.iterrows():\n",
    "    argument_demographics = [0] * len(all_demographic_properties)\n",
    "    for prop_name, prop_value in corpus_data[\"demographic_profile\"].items():\n",
    "        if isinstance(prop_value, list):\n",
    "            for item in prop_value:\n",
    "                argument_demographics[all_demographic_properties.index(item)] += 1\n",
    "        else:\n",
    "            argument_demographics[all_demographic_properties.index(prop_value)] += 1\n",
    "    corpus_demographics_embeddings.append(argument_demographics)"
   ]
  },
  {
   "cell_type": "code",
   "execution_count": 7,
   "metadata": {},
   "outputs": [],
   "source": [
    "queries_train_demographics_embeddings = []\n",
    "for index, query_data in perspective_queries_train.iterrows():\n",
    "    query_demographics = [0.5] * len(all_demographic_properties)\n",
    "    for prop_name, prop_value in query_data[\"demographic_property\"].items():\n",
    "        query_demographics[all_demographic_properties.index(prop_value)] += 0.5\n",
    "    queries_train_demographics_embeddings.append(query_demographics)\n",
    "\n",
    "queries_dev_demographics_embeddings = []\n",
    "for index, query_data in perspective_queries_dev.iterrows():\n",
    "    query_demographics = [0.5] * len(all_demographic_properties)\n",
    "    for prop_name, prop_value in query_data[\"demographic_property\"].items():\n",
    "        query_demographics[all_demographic_properties.index(prop_value)] += 0.5\n",
    "    queries_dev_demographics_embeddings.append(query_demographics)"
   ]
  },
  {
   "cell_type": "code",
   "execution_count": 7,
   "metadata": {},
   "outputs": [],
   "source": [
    "# uncomment for test data\n",
    "\n",
    "# queries_test_demographics_embeddings = []\n",
    "# for index, query_data in perspective_queries_test.iterrows():\n",
    "#     query_demographics = [0.5] * len(all_demographic_properties)\n",
    "#     for prop_name, prop_value in query_data[\"demographic_property\"].items():\n",
    "#         query_demographics[all_demographic_properties.index(prop_value)] += 0.5\n",
    "#     queries_test_demographics_embeddings.append(query_demographics)"
   ]
  },
  {
   "cell_type": "code",
   "execution_count": 8,
   "metadata": {},
   "outputs": [],
   "source": [
    "train_demographic_similarities = []\n",
    "for query_demographics in queries_train_demographics_embeddings:\n",
    "    query_argument_similarities = []\n",
    "    for corpus_demographics in corpus_demographics_embeddings:\n",
    "        if corpus_demographics[query_demographics.index(1)] == 1:\n",
    "            query_argument_similarities.append(1)\n",
    "        else:\n",
    "            query_argument_similarities.append(0)\n",
    "    train_demographic_similarities.append(query_argument_similarities)\n",
    "\n",
    "dev_demographic_similarities = []\n",
    "for query_demographics in queries_dev_demographics_embeddings:\n",
    "    query_argument_similarities = []\n",
    "    for corpus_demographics in corpus_demographics_embeddings:\n",
    "        if corpus_demographics[query_demographics.index(1)] == 1:\n",
    "            query_argument_similarities.append(1)\n",
    "        else:\n",
    "            query_argument_similarities.append(0)\n",
    "    dev_demographic_similarities.append(query_argument_similarities)"
   ]
  },
  {
   "cell_type": "code",
   "execution_count": 8,
   "metadata": {},
   "outputs": [],
   "source": [
    "# uncomment for test data\n",
    "\n",
    "# test_demographic_similarities = []\n",
    "# for query_demographics in queries_test_demographics_embeddings:\n",
    "#     query_argument_similarities = []\n",
    "#     for corpus_demographics in corpus_demographics_embeddings:\n",
    "#         if corpus_demographics[query_demographics.index(1)] == 1:\n",
    "#             query_argument_similarities.append(1)\n",
    "#         else:\n",
    "#             query_argument_similarities.append(0)\n",
    "#     test_demographic_similarities.append(query_argument_similarities)"
   ]
  },
  {
   "cell_type": "code",
   "execution_count": 12,
   "metadata": {},
   "outputs": [],
   "source": [
    "train_scores = []\n",
    "for i in range(len(train_demographic_similarities)):\n",
    "    row = train_demographic_similarities[i]\n",
    "    train_scores.append({\n",
    "        'query_id': perspective_queries_train[\"query_id\"].values[i],\n",
    "        'demographic_scores': row\n",
    "    })\n",
    "\n",
    "dev_scores = []\n",
    "for i in range(len(dev_demographic_similarities)):\n",
    "    row = dev_demographic_similarities[i]\n",
    "    dev_scores.append({\n",
    "        'query_id': perspective_queries_dev[\"query_id\"].values[i],\n",
    "        'demographic_scores': row\n",
    "    })"
   ]
  },
  {
   "cell_type": "code",
   "execution_count": 9,
   "metadata": {},
   "outputs": [],
   "source": [
    "# uncomment for test data\n",
    "\n",
    "# test_scores = []\n",
    "# for i in range(len(test_demographic_similarities)):\n",
    "#     row = test_demographic_similarities[i]\n",
    "#     test_scores.append({\n",
    "#         'query_id': perspective_queries_test[\"query_id\"].values[i],\n",
    "#         'demographic_scores': row\n",
    "#     })"
   ]
  },
  {
   "cell_type": "code",
   "execution_count": 10,
   "metadata": {},
   "outputs": [],
   "source": [
    "train_scores_df = pd.DataFrame(train_scores)\n",
    "dev_scores_df = pd.DataFrame(dev_scores)\n",
    "\n",
    "# uncomment for test data\n",
    "# test_scores_df = pd.DataFrame(test_scores)"
   ]
  },
  {
   "cell_type": "code",
   "execution_count": 11,
   "metadata": {},
   "outputs": [],
   "source": [
    "folder_name = \"final-scores\" # set folder name\n",
    "\n",
    "train_scores_df.to_json(f\"{folder_name}/explicit_train_demographic_scores.jsonl\", orient=\"records\", lines=True)\n",
    "dev_scores_df.to_json(f\"{folder_name}/explicit_dev_demographic_scores.jsonl\", orient=\"records\", lines=True)\n",
    "\n",
    "# uncomment for test data and potentially change name to avoid duplicate / overwriting\n",
    "# test_scores_df.to_json(f\"{folder_name}/explicit_test_demographic_scores.jsonl\", orient=\"records\", lines=True)"
   ]
  }
 ],
 "metadata": {
  "kernelspec": {
   "display_name": "Python 3",
   "language": "python",
   "name": "python3"
  },
  "language_info": {
   "codemirror_mode": {
    "name": "ipython",
    "version": 3
   },
   "file_extension": ".py",
   "mimetype": "text/x-python",
   "name": "python",
   "nbconvert_exporter": "python",
   "pygments_lexer": "ipython3",
   "version": "3.12.0"
  }
 },
 "nbformat": 4,
 "nbformat_minor": 2
}
