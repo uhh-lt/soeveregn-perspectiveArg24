{
 "cells": [
  {
   "cell_type": "code",
   "execution_count": null,
   "metadata": {},
   "outputs": [],
   "source": [
    "import pandas as pd\n",
    "from scripts.utils import read_gold_data\n",
    "import scripts.prompts as pr\n",
    "import scripts.rerank_scripts as rr\n",
    "from llmusage.hugchat_api_usage import HuggingChat"
   ]
  },
  {
   "cell_type": "code",
   "execution_count": 2,
   "metadata": {},
   "outputs": [],
   "source": [
    "data_path_name = \"data-release\" # set data path name\n",
    "\n",
    "data = read_gold_data(data_path_name)\n",
    "corpus = data[\"corpus\"]\n",
    "baseline_queries_train = data[\"baseline\"][\"train\"]\n",
    "baseline_queries_dev = data[\"baseline\"][\"dev\"]\n",
    "perspective_queries_train = data[\"perspective\"][\"train\"]\n",
    "perspective_queries_dev = data[\"perspective\"][\"dev\"]\n",
    "\n",
    "# baseline_queries_test = data[\"baseline\"][\"test\"]\n",
    "# perspective_queries_test = data[\"perspective\"][\"test\"]"
   ]
  },
  {
   "cell_type": "code",
   "execution_count": 3,
   "metadata": {},
   "outputs": [],
   "source": [
    "predictions_path = \"\"\n",
    "predictions = pd.read_json(predictions_path, lines=True)"
   ]
  },
  {
   "cell_type": "code",
   "execution_count": 4,
   "metadata": {},
   "outputs": [],
   "source": [
    "HUGGINGCHAT_USERNAME = \"\" # insert valid huggingchat username (I believe the email-adress works as well)\n",
    "HUGGINGCHAT_PASSWORD = \"\" # insert the corresponding huggingchat password\n",
    "answer_with = 'dict'"
   ]
  },
  {
   "cell_type": "code",
   "execution_count": 5,
   "metadata": {},
   "outputs": [
    {
     "name": "stdout",
     "output_type": "stream",
     "text": [
      "created login\n"
     ]
    }
   ],
   "source": [
    "if answer_with == 'list':\n",
    "    mixtral_huggingchat = HuggingChat(HUGGINGCHAT_USERNAME, HUGGINGCHAT_PASSWORD, system_prompt=\"Answer with a python list containing all ranked argument ids\")\n",
    "if answer_with == 'dict':\n",
    "    mixtral_huggingchat = HuggingChat(HUGGINGCHAT_USERNAME, HUGGINGCHAT_PASSWORD, system_prompt=\"Answer with a python dictionary containing a score between 0 and 1 for each argument id\")"
   ]
  },
  {
   "cell_type": "code",
   "execution_count": 6,
   "metadata": {},
   "outputs": [],
   "source": [
    "queries = perspective_queries_dev # set correct set of queries"
   ]
  },
  {
   "cell_type": "code",
   "execution_count": null,
   "metadata": {},
   "outputs": [],
   "source": [
    "json_path = \"\" # this path should lead to an empty json file, where the llm demographic scores per query can be saved right after generating them, in case something crashes and local variables are lost\n",
    "rerank_scores = rr.rerank_scores(predictions, corpus, queries, mixtral_huggingchat, 50, pr.dict_scores_prompt, json_path=json_path)"
   ]
  },
  {
   "cell_type": "code",
   "execution_count": 12,
   "metadata": {},
   "outputs": [],
   "source": [
    "# this would be used for methods like rr.simple_rerank that do actual reranking and don't return scores\n",
    "# rerank_scores.to_json(\"predictions/implicit/list_rerank_sbert_topic_filtered_dev_predictions.jsonl\", orient=\"records\", lines=True)"
   ]
  },
  {
   "cell_type": "code",
   "execution_count": null,
   "metadata": {},
   "outputs": [],
   "source": [
    "scores = []\n",
    "for i in range(len(rerank_scores)):\n",
    "    row = list(rerank_scores[i])\n",
    "    scores.append({\n",
    "        'query_id': queries[\"query_id\"].values[i],\n",
    "        'rerank_scores': row\n",
    "    })"
   ]
  },
  {
   "cell_type": "code",
   "execution_count": 11,
   "metadata": {},
   "outputs": [],
   "source": [
    "rerank_scores_df = pd.DataFrame(scores)"
   ]
  },
  {
   "cell_type": "code",
   "execution_count": 12,
   "metadata": {},
   "outputs": [],
   "source": [
    "llm_scores_path = \"\"\n",
    "rerank_scores_df.to_json(llm_scores_path, orient=\"records\", lines=True)"
   ]
  },
  {
   "cell_type": "code",
   "execution_count": null,
   "metadata": {},
   "outputs": [],
   "source": []
  }
 ],
 "metadata": {
  "kernelspec": {
   "display_name": "Python 3",
   "language": "python",
   "name": "python3"
  },
  "language_info": {
   "codemirror_mode": {
    "name": "ipython",
    "version": 3
   },
   "file_extension": ".py",
   "mimetype": "text/x-python",
   "name": "python",
   "nbconvert_exporter": "python",
   "pygments_lexer": "ipython3",
   "version": "3.12.0"
  }
 },
 "nbformat": 4,
 "nbformat_minor": 2
}
