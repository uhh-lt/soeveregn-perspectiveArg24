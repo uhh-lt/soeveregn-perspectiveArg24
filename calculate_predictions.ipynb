{
 "cells": [
  {
   "cell_type": "code",
   "execution_count": 1,
   "metadata": {},
   "outputs": [],
   "source": [
    "import pandas as pd\n",
    "import numpy as np\n",
    "from scripts.predictions_helper import calculate_predictions, calculate_predictions_dif\n",
    "from scripts.utils import read_gold_data\n",
    "import os"
   ]
  },
  {
   "cell_type": "code",
   "execution_count": 3,
   "metadata": {},
   "outputs": [],
   "source": [
    "data_path_name = \"data-release\" # set data path name\n",
    "\n",
    "data = read_gold_data(data_path_name)\n",
    "corpus = data[\"corpus\"]\n",
    "baseline_queries_train = data[\"baseline\"][\"train\"]\n",
    "baseline_queries_dev = data[\"baseline\"][\"dev\"]\n",
    "#baseline_queries_test = data[\"baseline\"][\"test\"]\n",
    "perspective_queries_train = data[\"perspective\"][\"train\"]\n",
    "perspective_queries_dev = data[\"perspective\"][\"dev\"]\n",
    "# perspective_queries_test = data[\"perspective\"][\"test\"]"
   ]
  },
  {
   "cell_type": "code",
   "execution_count": null,
   "metadata": {},
   "outputs": [],
   "source": [
    "similarity_scores_path = \"\" # set path, else comment line in cell below\n",
    "demographic_scores_path = \"\" # set path, else comment line in cell below\n",
    "topic_scores_path = \"\" # set path, else comment line in cell below\n",
    "rerank_scores_path = \"\" # set path, else comment line in cell below"
   ]
  },
  {
   "cell_type": "code",
   "execution_count": 4,
   "metadata": {},
   "outputs": [],
   "source": [
    "similarity_scores = pd.read_json(similarity_scores_path, lines=True)\n",
    "demographic_scores = pd.read_json(demographic_scores_path, lines=True)\n",
    "topic_scores = pd.read_json(topic_scores_path, lines=True)\n",
    "rerank_scores = pd.read_json(rerank_scores_path, lines=True)"
   ]
  },
  {
   "cell_type": "code",
   "execution_count": 5,
   "metadata": {},
   "outputs": [],
   "source": [
    "queries = perspective_queries_dev # set queries"
   ]
  },
  {
   "cell_type": "code",
   "execution_count": 6,
   "metadata": {},
   "outputs": [],
   "source": [
    "sbert_weight = 1 # set weight from logistic regression or zero if score not needed\n",
    "topic_weight = 1 # set weight from logistic regression or zero if score not needed\n",
    "demographic_weight = 1 # set weight from logistic regression or zero if score not needed\n",
    "llm_weight = 1 # set weight from logistic regression or zero if score not needed\n",
    "prediction_path = \"example_folder/example_prediction.jsonl\" # set path and location to save predictions in json file\n",
    "predictions = calculate_predictions(corpus, queries, similarity_scores_df=similarity_scores, topic_scores_df=topic_scores, demographic_scores_df=demographic_scores, rerank_scores_df=rerank_scores, prediction_path=prediction_path, sbert_weight=sbert_weight, topic_weight=topic_weight, demographic_weight=demographic_weight, llm_weight=llm_weight)"
   ]
  },
  {
   "cell_type": "code",
   "execution_count": null,
   "metadata": {},
   "outputs": [],
   "source": []
  }
 ],
 "metadata": {
  "kernelspec": {
   "display_name": "Python 3",
   "language": "python",
   "name": "python3"
  },
  "language_info": {
   "codemirror_mode": {
    "name": "ipython",
    "version": 3
   },
   "file_extension": ".py",
   "mimetype": "text/x-python",
   "name": "python",
   "nbconvert_exporter": "python",
   "pygments_lexer": "ipython3",
   "version": "3.12.0"
  }
 },
 "nbformat": 4,
 "nbformat_minor": 2
}
